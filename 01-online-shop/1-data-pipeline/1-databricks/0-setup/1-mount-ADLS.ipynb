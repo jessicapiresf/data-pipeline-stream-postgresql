{
 "cells": [
  {
   "cell_type": "markdown",
   "metadata": {
    "application/vnd.databricks.v1+cell": {
     "cellMetadata": {},
     "inputWidgets": {},
     "nuid": "91bade2f-0974-49c9-876d-cb65df4ff122",
     "showTitle": false,
     "title": ""
    }
   },
   "source": [
    "## Fazer a conexão com ADLS\n",
    "- Criar um Registro de App do Databricks;\n",
    "- Dar permissão para esse registro como Blob Data Contribuitor;\n",
    "- Criar certificado, copiar essa e outras informações para as variáveis aqui\n",
    "- Despois armazenar os segredos com Key Vault e Databricks Secrets Scopes"
   ]
  },
  {
   "cell_type": "code",
   "execution_count": 0,
   "metadata": {
    "application/vnd.databricks.v1+cell": {
     "cellMetadata": {
      "byteLimit": 2048000,
      "rowLimit": 10000
     },
     "inputWidgets": {},
     "nuid": "1d621e6b-dd3a-4e78-98d8-eb874be6b622",
     "showTitle": false,
     "title": ""
    }
   },
   "outputs": [],
   "source": [
    "\n",
    "storage_account_name = \"pjstglakehouse\"\n",
    "client_id            = dbutils.secrets.get(scope=\"databricks-adls-scope\", key=\"databricks-app-client-id\")\n",
    "tenant_id            = dbutils.secrets.get(scope=\"databricks-adls-scope\", key=\"databricks-app-tenant-id\")\n",
    "client_secret        = dbutils.secrets.get(scope=\"databricks-adls-scope\", key=\"databricks-app-client-secret\")"
   ]
  },
  {
   "cell_type": "code",
   "execution_count": 0,
   "metadata": {
    "application/vnd.databricks.v1+cell": {
     "cellMetadata": {
      "byteLimit": 2048000,
      "rowLimit": 10000
     },
     "inputWidgets": {},
     "nuid": "087be816-6aa9-4159-85c7-2c5425d55508",
     "showTitle": false,
     "title": ""
    }
   },
   "outputs": [],
   "source": [
    "configs = {\"fs.azure.account.auth.type\" : \"OAuth\",\n",
    "          \"fs.azure.account.oauth.provider.type\" : \"org.apache.hadoop.fs.azurebfs.oauth2.ClientCredsTokenProvider\",\n",
    "          \"fs.azure.account.oauth2.client.id\" : f\"{client_id}\",\n",
    "          \"fs.azure.account.oauth2.client.secret\" : f\"{client_secret}\",\n",
    "          \"fs.azure.account.oauth2.client.endpoint\" : f\"https://login.microsoftonline.com/{tenant_id}/oauth2/token\"\n",
    "}"
   ]
  },
  {
   "cell_type": "code",
   "execution_count": 0,
   "metadata": {
    "application/vnd.databricks.v1+cell": {
     "cellMetadata": {
      "byteLimit": 2048000,
      "rowLimit": 10000
     },
     "inputWidgets": {},
     "nuid": "aba0257b-a446-4a55-978e-8dd5ac4aad68",
     "showTitle": false,
     "title": ""
    }
   },
   "outputs": [],
   "source": [
    "# Função para montar o ADLS\n",
    "def mount_adls(container_name):\n",
    "    dbutils.fs.mount(\n",
    "        source = f\"abfss://{container_name}@{storage_account_name}.dfs.core.windows.net/\",\n",
    "        mount_point = f\"/mnt/{storage_account_name}/{container_name}\",\n",
    "        extra_configs = configs\n",
    "    )"
   ]
  },
  {
   "cell_type": "code",
   "execution_count": 0,
   "metadata": {
    "application/vnd.databricks.v1+cell": {
     "cellMetadata": {
      "byteLimit": 2048000,
      "rowLimit": 10000
     },
     "inputWidgets": {},
     "nuid": "e4b35b43-b36a-45e2-94f1-fad550fb5485",
     "showTitle": false,
     "title": ""
    }
   },
   "outputs": [],
   "source": [
    "# Criando landing-Zone\n",
    "mount_adls(\"landing-zone\")"
   ]
  },
  {
   "cell_type": "code",
   "execution_count": 0,
   "metadata": {
    "application/vnd.databricks.v1+cell": {
     "cellMetadata": {
      "byteLimit": 2048000,
      "rowLimit": 10000
     },
     "inputWidgets": {},
     "nuid": "18ab9303-f94c-4359-89e3-de537980577c",
     "showTitle": false,
     "title": ""
    }
   },
   "outputs": [],
   "source": [
    "# Criando bronze\n",
    "mount_adls(\"bronze\")"
   ]
  },
  {
   "cell_type": "code",
   "execution_count": 0,
   "metadata": {
    "application/vnd.databricks.v1+cell": {
     "cellMetadata": {
      "byteLimit": 2048000,
      "rowLimit": 10000
     },
     "inputWidgets": {},
     "nuid": "0c736699-5d3a-4137-9d42-ba06ac4b03aa",
     "showTitle": false,
     "title": ""
    }
   },
   "outputs": [],
   "source": [
    "# Criando prata\n",
    "mount_adls(\"prata\")"
   ]
  },
  {
   "cell_type": "code",
   "execution_count": 0,
   "metadata": {
    "application/vnd.databricks.v1+cell": {
     "cellMetadata": {
      "byteLimit": 2048000,
      "rowLimit": 10000
     },
     "inputWidgets": {},
     "nuid": "ce6d94cc-d0bc-4dd5-b34f-fb931eb1f047",
     "showTitle": false,
     "title": ""
    }
   },
   "outputs": [],
   "source": [
    "# Criando ouro\n",
    "mount_adls(\"ouro\")"
   ]
  },
  {
   "cell_type": "code",
   "execution_count": 0,
   "metadata": {
    "application/vnd.databricks.v1+cell": {
     "cellMetadata": {
      "byteLimit": 2048000,
      "rowLimit": 10000
     },
     "inputWidgets": {},
     "nuid": "16ce566b-d1fb-45de-8080-fe9fa831df83",
     "showTitle": false,
     "title": ""
    }
   },
   "outputs": [],
   "source": [
    "\n",
    "%fs\n",
    "ls mnt/pjstglakehouse2/landing-zone"
   ]
  }
 ],
 "metadata": {
  "application/vnd.databricks.v1+notebook": {
   "dashboards": [],
   "language": "python",
   "notebookMetadata": {
    "mostRecentlyExecutedCommandWithImplicitDF": {
     "commandId": 3256277032197788,
     "dataframes": [
      "_sqldf"
     ]
    },
    "pythonIndentUnit": 4
   },
   "notebookName": "1-mount-ADLS",
   "widgets": {}
  },
  "language_info": {
   "name": "python"
  }
 },
 "nbformat": 4,
 "nbformat_minor": 0
}
